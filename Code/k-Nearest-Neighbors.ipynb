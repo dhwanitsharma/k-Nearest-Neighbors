{
 "cells": [
  {
   "cell_type": "code",
   "execution_count": 1,
   "metadata": {},
   "outputs": [],
   "source": [
    "import pandas as pd\n",
    "import seaborn as sns\n",
    "import numpy as np\n",
    "import matplotlib.pyplot as plt\n",
    "from sklearn.preprocessing import LabelEncoder\n",
    "from sklearn.model_selection import train_test_split\n",
    "from scipy.stats import mode\n",
    "from sklearn import metrics\n",
    "from matplotlib.colors import ListedColormap"
   ]
  },
  {
   "cell_type": "markdown",
   "metadata": {},
   "source": [
    "### Iris Dataset"
   ]
  },
  {
   "cell_type": "code",
   "execution_count": 2,
   "metadata": {},
   "outputs": [
    {
     "data": {
      "text/html": [
       "<div>\n",
       "<style scoped>\n",
       "    .dataframe tbody tr th:only-of-type {\n",
       "        vertical-align: middle;\n",
       "    }\n",
       "\n",
       "    .dataframe tbody tr th {\n",
       "        vertical-align: top;\n",
       "    }\n",
       "\n",
       "    .dataframe thead th {\n",
       "        text-align: right;\n",
       "    }\n",
       "</style>\n",
       "<table border=\"1\" class=\"dataframe\">\n",
       "  <thead>\n",
       "    <tr style=\"text-align: right;\">\n",
       "      <th></th>\n",
       "      <th>Sepal_Length</th>\n",
       "      <th>Sepal_Width</th>\n",
       "      <th>Petal_Length</th>\n",
       "      <th>Petal_Width</th>\n",
       "      <th>Species</th>\n",
       "    </tr>\n",
       "  </thead>\n",
       "  <tbody>\n",
       "    <tr>\n",
       "      <th>0</th>\n",
       "      <td>5.1</td>\n",
       "      <td>3.5</td>\n",
       "      <td>1.4</td>\n",
       "      <td>0.2</td>\n",
       "      <td>Iris-setosa</td>\n",
       "    </tr>\n",
       "    <tr>\n",
       "      <th>1</th>\n",
       "      <td>4.9</td>\n",
       "      <td>3.0</td>\n",
       "      <td>1.4</td>\n",
       "      <td>0.2</td>\n",
       "      <td>Iris-setosa</td>\n",
       "    </tr>\n",
       "    <tr>\n",
       "      <th>2</th>\n",
       "      <td>4.7</td>\n",
       "      <td>3.2</td>\n",
       "      <td>1.3</td>\n",
       "      <td>0.2</td>\n",
       "      <td>Iris-setosa</td>\n",
       "    </tr>\n",
       "    <tr>\n",
       "      <th>3</th>\n",
       "      <td>4.6</td>\n",
       "      <td>3.1</td>\n",
       "      <td>1.5</td>\n",
       "      <td>0.2</td>\n",
       "      <td>Iris-setosa</td>\n",
       "    </tr>\n",
       "    <tr>\n",
       "      <th>4</th>\n",
       "      <td>5.0</td>\n",
       "      <td>3.6</td>\n",
       "      <td>1.4</td>\n",
       "      <td>0.2</td>\n",
       "      <td>Iris-setosa</td>\n",
       "    </tr>\n",
       "    <tr>\n",
       "      <th>...</th>\n",
       "      <td>...</td>\n",
       "      <td>...</td>\n",
       "      <td>...</td>\n",
       "      <td>...</td>\n",
       "      <td>...</td>\n",
       "    </tr>\n",
       "    <tr>\n",
       "      <th>145</th>\n",
       "      <td>6.7</td>\n",
       "      <td>3.0</td>\n",
       "      <td>5.2</td>\n",
       "      <td>2.3</td>\n",
       "      <td>Iris-virginica</td>\n",
       "    </tr>\n",
       "    <tr>\n",
       "      <th>146</th>\n",
       "      <td>6.3</td>\n",
       "      <td>2.5</td>\n",
       "      <td>5.0</td>\n",
       "      <td>1.9</td>\n",
       "      <td>Iris-virginica</td>\n",
       "    </tr>\n",
       "    <tr>\n",
       "      <th>147</th>\n",
       "      <td>6.5</td>\n",
       "      <td>3.0</td>\n",
       "      <td>5.2</td>\n",
       "      <td>2.0</td>\n",
       "      <td>Iris-virginica</td>\n",
       "    </tr>\n",
       "    <tr>\n",
       "      <th>148</th>\n",
       "      <td>6.2</td>\n",
       "      <td>3.4</td>\n",
       "      <td>5.4</td>\n",
       "      <td>2.3</td>\n",
       "      <td>Iris-virginica</td>\n",
       "    </tr>\n",
       "    <tr>\n",
       "      <th>149</th>\n",
       "      <td>5.9</td>\n",
       "      <td>3.0</td>\n",
       "      <td>5.1</td>\n",
       "      <td>1.8</td>\n",
       "      <td>Iris-virginica</td>\n",
       "    </tr>\n",
       "  </tbody>\n",
       "</table>\n",
       "<p>150 rows × 5 columns</p>\n",
       "</div>"
      ],
      "text/plain": [
       "     Sepal_Length  Sepal_Width  Petal_Length  Petal_Width         Species\n",
       "0             5.1          3.5           1.4          0.2     Iris-setosa\n",
       "1             4.9          3.0           1.4          0.2     Iris-setosa\n",
       "2             4.7          3.2           1.3          0.2     Iris-setosa\n",
       "3             4.6          3.1           1.5          0.2     Iris-setosa\n",
       "4             5.0          3.6           1.4          0.2     Iris-setosa\n",
       "..            ...          ...           ...          ...             ...\n",
       "145           6.7          3.0           5.2          2.3  Iris-virginica\n",
       "146           6.3          2.5           5.0          1.9  Iris-virginica\n",
       "147           6.5          3.0           5.2          2.0  Iris-virginica\n",
       "148           6.2          3.4           5.4          2.3  Iris-virginica\n",
       "149           5.9          3.0           5.1          1.8  Iris-virginica\n",
       "\n",
       "[150 rows x 5 columns]"
      ]
     },
     "execution_count": 2,
     "metadata": {},
     "output_type": "execute_result"
    }
   ],
   "source": [
    "col_names = ['Sepal_Length','Sepal_Width','Petal_Length','Petal_Width','Species']\n",
    "df=pd.read_csv(\"iris.csv\",names = col_names) \n",
    "df"
   ]
  },
  {
   "cell_type": "code",
   "execution_count": 3,
   "metadata": {},
   "outputs": [
    {
     "data": {
      "text/plain": [
       "array([[5.1, 3.5, 1.4, 0.2],\n",
       "       [4.9, 3.0, 1.4, 0.2],\n",
       "       [4.7, 3.2, 1.3, 0.2],\n",
       "       [4.6, 3.1, 1.5, 0.2],\n",
       "       [5.0, 3.6, 1.4, 0.2],\n",
       "       [5.4, 3.9, 1.7, 0.4],\n",
       "       [4.6, 3.4, 1.4, 0.3],\n",
       "       [5.0, 3.4, 1.5, 0.2],\n",
       "       [4.4, 2.9, 1.4, 0.2],\n",
       "       [4.9, 3.1, 1.5, 0.1],\n",
       "       [5.4, 3.7, 1.5, 0.2],\n",
       "       [4.8, 3.4, 1.6, 0.2],\n",
       "       [4.8, 3.0, 1.4, 0.1],\n",
       "       [4.3, 3.0, 1.1, 0.1],\n",
       "       [5.8, 4.0, 1.2, 0.2],\n",
       "       [5.7, 4.4, 1.5, 0.4],\n",
       "       [5.4, 3.9, 1.3, 0.4],\n",
       "       [5.1, 3.5, 1.4, 0.3],\n",
       "       [5.7, 3.8, 1.7, 0.3],\n",
       "       [5.1, 3.8, 1.5, 0.3],\n",
       "       [5.4, 3.4, 1.7, 0.2],\n",
       "       [5.1, 3.7, 1.5, 0.4],\n",
       "       [4.6, 3.6, 1.0, 0.2],\n",
       "       [5.1, 3.3, 1.7, 0.5],\n",
       "       [4.8, 3.4, 1.9, 0.2],\n",
       "       [5.0, 3.0, 1.6, 0.2],\n",
       "       [5.0, 3.4, 1.6, 0.4],\n",
       "       [5.2, 3.5, 1.5, 0.2],\n",
       "       [5.2, 3.4, 1.4, 0.2],\n",
       "       [4.7, 3.2, 1.6, 0.2],\n",
       "       [4.8, 3.1, 1.6, 0.2],\n",
       "       [5.4, 3.4, 1.5, 0.4],\n",
       "       [5.2, 4.1, 1.5, 0.1],\n",
       "       [5.5, 4.2, 1.4, 0.2],\n",
       "       [4.9, 3.1, 1.5, 0.1],\n",
       "       [5.0, 3.2, 1.2, 0.2],\n",
       "       [5.5, 3.5, 1.3, 0.2],\n",
       "       [4.9, 3.1, 1.5, 0.1],\n",
       "       [4.4, 3.0, 1.3, 0.2],\n",
       "       [5.1, 3.4, 1.5, 0.2],\n",
       "       [5.0, 3.5, 1.3, 0.3],\n",
       "       [4.5, 2.3, 1.3, 0.3],\n",
       "       [4.4, 3.2, 1.3, 0.2],\n",
       "       [5.0, 3.5, 1.6, 0.6],\n",
       "       [5.1, 3.8, 1.9, 0.4],\n",
       "       [4.8, 3.0, 1.4, 0.3],\n",
       "       [5.1, 3.8, 1.6, 0.2],\n",
       "       [4.6, 3.2, 1.4, 0.2],\n",
       "       [5.3, 3.7, 1.5, 0.2],\n",
       "       [5.0, 3.3, 1.4, 0.2],\n",
       "       [7.0, 3.2, 4.7, 1.4],\n",
       "       [6.4, 3.2, 4.5, 1.5],\n",
       "       [6.9, 3.1, 4.9, 1.5],\n",
       "       [5.5, 2.3, 4.0, 1.3],\n",
       "       [6.5, 2.8, 4.6, 1.5],\n",
       "       [5.7, 2.8, 4.5, 1.3],\n",
       "       [6.3, 3.3, 4.7, 1.6],\n",
       "       [4.9, 2.4, 3.3, 1.0],\n",
       "       [6.6, 2.9, 4.6, 1.3],\n",
       "       [5.2, 2.7, 3.9, 1.4],\n",
       "       [5.0, 2.0, 3.5, 1.0],\n",
       "       [5.9, 3.0, 4.2, 1.5],\n",
       "       [6.0, 2.2, 4.0, 1.0],\n",
       "       [6.1, 2.9, 4.7, 1.4],\n",
       "       [5.6, 2.9, 3.6, 1.3],\n",
       "       [6.7, 3.1, 4.4, 1.4],\n",
       "       [5.6, 3.0, 4.5, 1.5],\n",
       "       [5.8, 2.7, 4.1, 1.0],\n",
       "       [6.2, 2.2, 4.5, 1.5],\n",
       "       [5.6, 2.5, 3.9, 1.1],\n",
       "       [5.9, 3.2, 4.8, 1.8],\n",
       "       [6.1, 2.8, 4.0, 1.3],\n",
       "       [6.3, 2.5, 4.9, 1.5],\n",
       "       [6.1, 2.8, 4.7, 1.2],\n",
       "       [6.4, 2.9, 4.3, 1.3],\n",
       "       [6.6, 3.0, 4.4, 1.4],\n",
       "       [6.8, 2.8, 4.8, 1.4],\n",
       "       [6.7, 3.0, 5.0, 1.7],\n",
       "       [6.0, 2.9, 4.5, 1.5],\n",
       "       [5.7, 2.6, 3.5, 1.0],\n",
       "       [5.5, 2.4, 3.8, 1.1],\n",
       "       [5.5, 2.4, 3.7, 1.0],\n",
       "       [5.8, 2.7, 3.9, 1.2],\n",
       "       [6.0, 2.7, 5.1, 1.6],\n",
       "       [5.4, 3.0, 4.5, 1.5],\n",
       "       [6.0, 3.4, 4.5, 1.6],\n",
       "       [6.7, 3.1, 4.7, 1.5],\n",
       "       [6.3, 2.3, 4.4, 1.3],\n",
       "       [5.6, 3.0, 4.1, 1.3],\n",
       "       [5.5, 2.5, 4.0, 1.3],\n",
       "       [5.5, 2.6, 4.4, 1.2],\n",
       "       [6.1, 3.0, 4.6, 1.4],\n",
       "       [5.8, 2.6, 4.0, 1.2],\n",
       "       [5.0, 2.3, 3.3, 1.0],\n",
       "       [5.6, 2.7, 4.2, 1.3],\n",
       "       [5.7, 3.0, 4.2, 1.2],\n",
       "       [5.7, 2.9, 4.2, 1.3],\n",
       "       [6.2, 2.9, 4.3, 1.3],\n",
       "       [5.1, 2.5, 3.0, 1.1],\n",
       "       [5.7, 2.8, 4.1, 1.3],\n",
       "       [6.3, 3.3, 6.0, 2.5],\n",
       "       [5.8, 2.7, 5.1, 1.9],\n",
       "       [7.1, 3.0, 5.9, 2.1],\n",
       "       [6.3, 2.9, 5.6, 1.8],\n",
       "       [6.5, 3.0, 5.8, 2.2],\n",
       "       [7.6, 3.0, 6.6, 2.1],\n",
       "       [4.9, 2.5, 4.5, 1.7],\n",
       "       [7.3, 2.9, 6.3, 1.8],\n",
       "       [6.7, 2.5, 5.8, 1.8],\n",
       "       [7.2, 3.6, 6.1, 2.5],\n",
       "       [6.5, 3.2, 5.1, 2.0],\n",
       "       [6.4, 2.7, 5.3, 1.9],\n",
       "       [6.8, 3.0, 5.5, 2.1],\n",
       "       [5.7, 2.5, 5.0, 2.0],\n",
       "       [5.8, 2.8, 5.1, 2.4],\n",
       "       [6.4, 3.2, 5.3, 2.3],\n",
       "       [6.5, 3.0, 5.5, 1.8],\n",
       "       [7.7, 3.8, 6.7, 2.2],\n",
       "       [7.7, 2.6, 6.9, 2.3],\n",
       "       [6.0, 2.2, 5.0, 1.5],\n",
       "       [6.9, 3.2, 5.7, 2.3],\n",
       "       [5.6, 2.8, 4.9, 2.0],\n",
       "       [7.7, 2.8, 6.7, 2.0],\n",
       "       [6.3, 2.7, 4.9, 1.8],\n",
       "       [6.7, 3.3, 5.7, 2.1],\n",
       "       [7.2, 3.2, 6.0, 1.8],\n",
       "       [6.2, 2.8, 4.8, 1.8],\n",
       "       [6.1, 3.0, 4.9, 1.8],\n",
       "       [6.4, 2.8, 5.6, 2.1],\n",
       "       [7.2, 3.0, 5.8, 1.6],\n",
       "       [7.4, 2.8, 6.1, 1.9],\n",
       "       [7.9, 3.8, 6.4, 2.0],\n",
       "       [6.4, 2.8, 5.6, 2.2],\n",
       "       [6.3, 2.8, 5.1, 1.5],\n",
       "       [6.1, 2.6, 5.6, 1.4],\n",
       "       [7.7, 3.0, 6.1, 2.3],\n",
       "       [6.3, 3.4, 5.6, 2.4],\n",
       "       [6.4, 3.1, 5.5, 1.8],\n",
       "       [6.0, 3.0, 4.8, 1.8],\n",
       "       [6.9, 3.1, 5.4, 2.1],\n",
       "       [6.7, 3.1, 5.6, 2.4],\n",
       "       [6.9, 3.1, 5.1, 2.3],\n",
       "       [5.8, 2.7, 5.1, 1.9],\n",
       "       [6.8, 3.2, 5.9, 2.3],\n",
       "       [6.7, 3.3, 5.7, 2.5],\n",
       "       [6.7, 3.0, 5.2, 2.3],\n",
       "       [6.3, 2.5, 5.0, 1.9],\n",
       "       [6.5, 3.0, 5.2, 2.0],\n",
       "       [6.2, 3.4, 5.4, 2.3],\n",
       "       [5.9, 3.0, 5.1, 1.8]], dtype=object)"
      ]
     },
     "execution_count": 3,
     "metadata": {},
     "output_type": "execute_result"
    }
   ],
   "source": [
    "X = df.values[:,:-1]\n",
    "Y = df.values[:,-1]\n",
    "X"
   ]
  },
  {
   "cell_type": "markdown",
   "metadata": {},
   "source": [
    "#### Encode the class labels"
   ]
  },
  {
   "cell_type": "code",
   "execution_count": 4,
   "metadata": {},
   "outputs": [],
   "source": [
    "le = LabelEncoder()\n",
    "y = le.fit_transform(Y)"
   ]
  },
  {
   "cell_type": "markdown",
   "metadata": {},
   "source": [
    "#### Split the dataset into train and test sets. Keep 20% of data for testing and the rest will be training data. "
   ]
  },
  {
   "cell_type": "code",
   "execution_count": 5,
   "metadata": {},
   "outputs": [
    {
     "data": {
      "text/plain": [
       "array([[5.1, 3.5],\n",
       "       [4.9, 3.0],\n",
       "       [4.7, 3.2],\n",
       "       [4.6, 3.1],\n",
       "       [5.0, 3.6],\n",
       "       [5.4, 3.9],\n",
       "       [4.6, 3.4],\n",
       "       [5.0, 3.4],\n",
       "       [4.4, 2.9],\n",
       "       [4.9, 3.1],\n",
       "       [5.4, 3.7],\n",
       "       [4.8, 3.4],\n",
       "       [4.8, 3.0],\n",
       "       [4.3, 3.0],\n",
       "       [5.8, 4.0],\n",
       "       [5.7, 4.4],\n",
       "       [5.4, 3.9],\n",
       "       [5.1, 3.5],\n",
       "       [5.7, 3.8],\n",
       "       [5.1, 3.8],\n",
       "       [5.4, 3.4],\n",
       "       [5.1, 3.7],\n",
       "       [4.6, 3.6],\n",
       "       [5.1, 3.3],\n",
       "       [4.8, 3.4],\n",
       "       [5.0, 3.0],\n",
       "       [5.0, 3.4],\n",
       "       [5.2, 3.5],\n",
       "       [5.2, 3.4],\n",
       "       [4.7, 3.2],\n",
       "       [4.8, 3.1],\n",
       "       [5.4, 3.4],\n",
       "       [5.2, 4.1],\n",
       "       [5.5, 4.2],\n",
       "       [4.9, 3.1],\n",
       "       [5.0, 3.2],\n",
       "       [5.5, 3.5],\n",
       "       [4.9, 3.1],\n",
       "       [4.4, 3.0],\n",
       "       [5.1, 3.4],\n",
       "       [5.0, 3.5],\n",
       "       [4.5, 2.3],\n",
       "       [4.4, 3.2],\n",
       "       [5.0, 3.5],\n",
       "       [5.1, 3.8],\n",
       "       [4.8, 3.0],\n",
       "       [5.1, 3.8],\n",
       "       [4.6, 3.2],\n",
       "       [5.3, 3.7],\n",
       "       [5.0, 3.3],\n",
       "       [7.0, 3.2],\n",
       "       [6.4, 3.2],\n",
       "       [6.9, 3.1],\n",
       "       [5.5, 2.3],\n",
       "       [6.5, 2.8],\n",
       "       [5.7, 2.8],\n",
       "       [6.3, 3.3],\n",
       "       [4.9, 2.4],\n",
       "       [6.6, 2.9],\n",
       "       [5.2, 2.7],\n",
       "       [5.0, 2.0],\n",
       "       [5.9, 3.0],\n",
       "       [6.0, 2.2],\n",
       "       [6.1, 2.9],\n",
       "       [5.6, 2.9],\n",
       "       [6.7, 3.1],\n",
       "       [5.6, 3.0],\n",
       "       [5.8, 2.7],\n",
       "       [6.2, 2.2],\n",
       "       [5.6, 2.5],\n",
       "       [5.9, 3.2],\n",
       "       [6.1, 2.8],\n",
       "       [6.3, 2.5],\n",
       "       [6.1, 2.8],\n",
       "       [6.4, 2.9],\n",
       "       [6.6, 3.0],\n",
       "       [6.8, 2.8],\n",
       "       [6.7, 3.0],\n",
       "       [6.0, 2.9],\n",
       "       [5.7, 2.6],\n",
       "       [5.5, 2.4],\n",
       "       [5.5, 2.4],\n",
       "       [5.8, 2.7],\n",
       "       [6.0, 2.7],\n",
       "       [5.4, 3.0],\n",
       "       [6.0, 3.4],\n",
       "       [6.7, 3.1],\n",
       "       [6.3, 2.3],\n",
       "       [5.6, 3.0],\n",
       "       [5.5, 2.5],\n",
       "       [5.5, 2.6],\n",
       "       [6.1, 3.0],\n",
       "       [5.8, 2.6],\n",
       "       [5.0, 2.3],\n",
       "       [5.6, 2.7],\n",
       "       [5.7, 3.0],\n",
       "       [5.7, 2.9],\n",
       "       [6.2, 2.9],\n",
       "       [5.1, 2.5],\n",
       "       [5.7, 2.8],\n",
       "       [6.3, 3.3],\n",
       "       [5.8, 2.7],\n",
       "       [7.1, 3.0],\n",
       "       [6.3, 2.9],\n",
       "       [6.5, 3.0],\n",
       "       [7.6, 3.0],\n",
       "       [4.9, 2.5],\n",
       "       [7.3, 2.9],\n",
       "       [6.7, 2.5],\n",
       "       [7.2, 3.6],\n",
       "       [6.5, 3.2],\n",
       "       [6.4, 2.7],\n",
       "       [6.8, 3.0],\n",
       "       [5.7, 2.5],\n",
       "       [5.8, 2.8],\n",
       "       [6.4, 3.2],\n",
       "       [6.5, 3.0],\n",
       "       [7.7, 3.8],\n",
       "       [7.7, 2.6],\n",
       "       [6.0, 2.2],\n",
       "       [6.9, 3.2],\n",
       "       [5.6, 2.8],\n",
       "       [7.7, 2.8],\n",
       "       [6.3, 2.7],\n",
       "       [6.7, 3.3],\n",
       "       [7.2, 3.2],\n",
       "       [6.2, 2.8],\n",
       "       [6.1, 3.0],\n",
       "       [6.4, 2.8],\n",
       "       [7.2, 3.0],\n",
       "       [7.4, 2.8],\n",
       "       [7.9, 3.8],\n",
       "       [6.4, 2.8],\n",
       "       [6.3, 2.8],\n",
       "       [6.1, 2.6],\n",
       "       [7.7, 3.0],\n",
       "       [6.3, 3.4],\n",
       "       [6.4, 3.1],\n",
       "       [6.0, 3.0],\n",
       "       [6.9, 3.1],\n",
       "       [6.7, 3.1],\n",
       "       [6.9, 3.1],\n",
       "       [5.8, 2.7],\n",
       "       [6.8, 3.2],\n",
       "       [6.7, 3.3],\n",
       "       [6.7, 3.0],\n",
       "       [6.3, 2.5],\n",
       "       [6.5, 3.0],\n",
       "       [6.2, 3.4],\n",
       "       [5.9, 3.0]], dtype=object)"
      ]
     },
     "execution_count": 5,
     "metadata": {},
     "output_type": "execute_result"
    }
   ],
   "source": [
    "X_two = X[:,:2]\n",
    "X_train, X_test, y_train, y_test = train_test_split(X_two, y,stratify=y, test_size = 0.2, random_state = 32)\n",
    "X_two"
   ]
  },
  {
   "cell_type": "markdown",
   "metadata": {},
   "source": [
    "### A.Compare all four features distribution in each iris class using boxplots"
   ]
  },
  {
   "cell_type": "code",
   "execution_count": 6,
   "metadata": {},
   "outputs": [
    {
     "data": {
      "text/plain": [
       "<Figure size 432x288 with 0 Axes>"
      ]
     },
     "metadata": {},
     "output_type": "display_data"
    },
    {
     "data": {
      "image/png": "[encoded data removed]",
      "text/plain": [
       "<Figure size 720x720 with 4 Axes>"
      ]
     },
     "metadata": {
      "needs_background": "light"
     },
     "output_type": "display_data"
    }
   ],
   "source": [
    "plt.figure()\n",
    "df.boxplot(by=\"Species\",figsize=(10,10))\n",
    "plt.show()"
   ]
  },
  {
   "cell_type": "markdown",
   "metadata": {},
   "source": [
    "#### Step1: Calculate the distance from test data ( Euclidean distance)\n",
    "#### Step2: Find the set I of k observations with smallest distances\n",
    "#### Step3: Assign a label by taking a majority vote on I"
   ]
  },
  {
   "cell_type": "code",
   "execution_count": 7,
   "metadata": {},
   "outputs": [],
   "source": [
    "def euclidean(point_1, point_2):\n",
    "    square = np.square(point_1 - point_2)\n",
    "    sum_square = np.sum(square)\n",
    "    distance = np.sqrt(sum_square)\n",
    "    return distance"
   ]
  },
  {
   "cell_type": "code",
   "execution_count": 8,
   "metadata": {},
   "outputs": [],
   "source": [
    "def KNN_Pred(x_train, y, x_input, k):\n",
    "    list = []\n",
    "    for x in x_input:\n",
    "        point_dist = []\n",
    "        for j in range(len(x_train)):\n",
    "            c=np.array(x_train[j])\n",
    "            distances = euclidean(c, x)\n",
    "            point_dist.append(distances)\n",
    "        point_dist = np.array(point_dist)\n",
    "        dist = np.argsort(point_dist)[:k]\n",
    "        labels = y[dist]\n",
    "        lab = mode(labels)\n",
    "        lab = lab.mode[0]\n",
    "        list.append(lab)\n",
    "    return list"
   ]
  },
  {
   "cell_type": "code",
   "execution_count": 9,
   "metadata": {},
   "outputs": [
    {
     "name": "stdout",
     "output_type": "stream",
     "text": [
      "[2, 2, 0, 0, 0, 2, 2, 0, 0, 2, 2, 1, 1, 2, 0, 0, 2, 2, 2, 0, 0, 0, 2, 2, 2, 1, 2, 1, 1, 1]\n",
      "              precision    recall  f1-score   support\n",
      "\n",
      "           0       1.00      1.00      1.00        10\n",
      "           1       0.50      0.83      0.62         6\n",
      "           2       0.90      0.64      0.75        14\n",
      "\n",
      "    accuracy                           0.80        30\n",
      "   macro avg       0.80      0.83      0.79        30\n",
      "weighted avg       0.85      0.80      0.81        30\n",
      "\n",
      "[[10  0  0]\n",
      " [ 0  5  5]\n",
      " [ 0  1  9]]\n"
     ]
    }
   ],
   "source": [
    "ys_predict=KNN_Pred(X_train,y_train,X_test,1)\n",
    "print(ys_predict)\n",
    "print(metrics.classification_report(ys_predict, y_test))\n",
    "print(metrics.confusion_matrix(y_test, ys_predict))"
   ]
  },
  {
   "cell_type": "code",
   "execution_count": 10,
   "metadata": {},
   "outputs": [],
   "source": [
    "def meshGrid (x , y , h):\n",
    "    '''x is data for x-axis meshgrid\n",
    "       y is data for y-axis meshgrid\n",
    "       h is stepsize\n",
    "    '''\n",
    "    x_min, x_max = x.min() - 1 , x.max() + 1\n",
    "    y_min, y_max = y.min() - 1 , y.max() + 1\n",
    "    xx, yy = np.meshgrid(np.arange(x_min, x_max, h), np.arange(y_min, y_max, h))\n",
    "    \n",
    "    return xx , yy"
   ]
  },
  {
   "cell_type": "code",
   "execution_count": 11,
   "metadata": {},
   "outputs": [],
   "source": [
    "# Display the svm \n",
    "xx , yy = meshGrid(X_two[:,0], X_two[:,1], 0.01)\n",
    "X_t=np.c_[xx.ravel(), yy.ravel()]\n",
    "Z=KNN_Pred(X_train,y_train,X_t,1)"
   ]
  },
  {
   "cell_type": "markdown",
   "metadata": {},
   "source": [
    "####  Plot the decision boundary "
   ]
  },
  {
   "cell_type": "code",
   "execution_count": 12,
   "metadata": {},
   "outputs": [
    {
     "data": {
      "image/png": "[encoded data removed]",
      "text/plain": [
       "<Figure size 432x288 with 1 Axes>"
      ]
     },
     "metadata": {
      "needs_background": "light"
     },
     "output_type": "display_data"
    }
   ],
   "source": [
    "cmap_light = ListedColormap(['#FBBBB9','#82CAFF','#48d95e']) \n",
    "cmap_bold = ListedColormap(['#CA226B' ,'#2B65EC','#45bf19']) \n",
    "cmap_test = ListedColormap(['#8E35EF', '#659EC7','#80ad4c'])\n",
    "cmap_predict = ListedColormap(['#FCDFFF','#E0FFFF','#eaf0da'])\n",
    "\n",
    "Z=np.array(Z)\n",
    "Z = Z.reshape(xx.shape)\n",
    "plt.figure()\n",
    "plt.contourf(xx, yy, Z, cmap=cmap_light ,levels=[-1, 0, 1,2] ,alpha = 0.5)\n",
    "\n",
    "# For plotting train and test and prediction separatley \n",
    "plt.scatter(X_train[:, 0], X_train[:, 1], c=y_train, cmap=cmap_bold,edgecolor='k', s=40)\n",
    "plt.scatter(X_test[:, 0], X_test[:, 1], alpha=1.0,c = y_test, cmap=cmap_test,linewidth=1, marker='o', s=90)\n",
    "plt.scatter(X_test[:, 0], X_test[:, 1], alpha=1.0,c = ys_predict, cmap=cmap_predict ,linewidth=1, marker='X', s=40)\n",
    "plt.xlim(xx.min(), xx.max())\n",
    "plt.ylim(yy.min(), yy.max())\n",
    "\n",
    "plt.show()"
   ]
  },
  {
   "cell_type": "markdown",
   "metadata": {},
   "source": [
    "#### With k=2"
   ]
  },
  {
   "cell_type": "code",
   "execution_count": 14,
   "metadata": {},
   "outputs": [
    {
     "name": "stdout",
     "output_type": "stream",
     "text": [
      "[2, 2, 0, 0, 0, 2, 2, 0, 0, 2, 2, 1, 1, 2, 0, 0, 2, 2, 2, 0, 0, 0, 2, 2, 2, 1, 1, 1, 1, 1]\n",
      "              precision    recall  f1-score   support\n",
      "\n",
      "           0       1.00      1.00      1.00        10\n",
      "           1       0.60      0.86      0.71         7\n",
      "           2       0.90      0.69      0.78        13\n",
      "\n",
      "    accuracy                           0.83        30\n",
      "   macro avg       0.83      0.85      0.83        30\n",
      "weighted avg       0.86      0.83      0.84        30\n",
      "\n",
      "[[10  0  0]\n",
      " [ 0  6  4]\n",
      " [ 0  1  9]]\n"
     ]
    }
   ],
   "source": [
    "y_predict_2 = KNN_Pred(X_train,y_train,X_test,2)\n",
    "print(y_predict_2)\n",
    "print(metrics.classification_report(y_predict_2, y_test))\n",
    "print(metrics.confusion_matrix(y_test, y_predict_2))"
   ]
  },
  {
   "cell_type": "code",
   "execution_count": 15,
   "metadata": {},
   "outputs": [
    {
     "data": {
      "image/png": "[encoded data removed]",
      "text/plain": [
       "<Figure size 432x288 with 1 Axes>"
      ]
     },
     "metadata": {
      "needs_background": "light"
     },
     "output_type": "display_data"
    }
   ],
   "source": [
    "Z2=KNN_Pred(X_train,y_train,X_t,2)\n",
    "Z2=np.array(Z2)\n",
    "Z2 = Z2.reshape(xx.shape)\n",
    "plt.figure()\n",
    "plt.contourf(xx, yy, Z2, cmap=cmap_light ,levels=[-1, 0, 1,2] ,alpha = 0.5)\n",
    "\n",
    "# For plotting train and test and prediction separatley \n",
    "plt.scatter(X_train[:, 0], X_train[:, 1], c=y_train, cmap=cmap_bold,edgecolor='k', s=40)\n",
    "plt.scatter(X_test[:, 0], X_test[:, 1], alpha=1.0,c = y_test, cmap=cmap_test,linewidth=1, marker='o', s=90)\n",
    "plt.scatter(X_test[:, 0], X_test[:, 1], alpha=1.0,c = ys_predict, cmap=cmap_predict ,linewidth=1, marker='X', s=40)\n",
    "plt.xlim(xx.min(), xx.max())\n",
    "plt.ylim(yy.min(), yy.max())\n",
    "\n",
    "plt.show()"
   ]
  },
  {
   "cell_type": "markdown",
   "metadata": {},
   "source": [
    "#### With k = 4"
   ]
  },
  {
   "cell_type": "code",
   "execution_count": 17,
   "metadata": {},
   "outputs": [
    {
     "name": "stdout",
     "output_type": "stream",
     "text": [
      "[1, 2, 0, 0, 0, 2, 2, 0, 0, 2, 2, 1, 1, 2, 0, 0, 2, 2, 2, 0, 0, 0, 2, 2, 1, 1, 2, 1, 2, 1]\n",
      "              precision    recall  f1-score   support\n",
      "\n",
      "           0       1.00      1.00      1.00        10\n",
      "           1       0.60      0.86      0.71         7\n",
      "           2       0.90      0.69      0.78        13\n",
      "\n",
      "    accuracy                           0.83        30\n",
      "   macro avg       0.83      0.85      0.83        30\n",
      "weighted avg       0.86      0.83      0.84        30\n",
      "\n",
      "[[10  0  0]\n",
      " [ 0  6  4]\n",
      " [ 0  1  9]]\n"
     ]
    }
   ],
   "source": [
    "y_predict_4 = KNN_Pred(X_train,y_train,X_test,4)\n",
    "print(y_predict_4)\n",
    "print(metrics.classification_report(y_predict_4, y_test))\n",
    "print(metrics.confusion_matrix(y_test, y_predict_4))"
   ]
  },
  {
   "cell_type": "code",
   "execution_count": 18,
   "metadata": {},
   "outputs": [
    {
     "data": {
      "image/png": "[encoded data removed]",
      "text/plain": [
       "<Figure size 432x288 with 1 Axes>"
      ]
     },
     "metadata": {
      "needs_background": "light"
     },
     "output_type": "display_data"
    }
   ],
   "source": [
    "Z4=KNN_Pred(X_train,y_train,X_t,4)\n",
    "Z4=np.array(Z4)\n",
    "Z4 = Z4.reshape(xx.shape)\n",
    "plt.figure()\n",
    "plt.contourf(xx, yy, Z4, cmap=cmap_light ,levels=[-1, 0, 1,2] ,alpha = 0.5)\n",
    "\n",
    "# For plotting train and test and prediction separatley \n",
    "plt.scatter(X_train[:, 0], X_train[:, 1], c=y_train, cmap=cmap_bold,edgecolor='k', s=40)\n",
    "plt.scatter(X_test[:, 0], X_test[:, 1], alpha=1.0,c = y_test, cmap=cmap_test,linewidth=1, marker='o', s=90)\n",
    "plt.scatter(X_test[:, 0], X_test[:, 1], alpha=1.0,c = ys_predict, cmap=cmap_predict ,linewidth=1, marker='X', s=40)\n",
    "plt.xlim(xx.min(), xx.max())\n",
    "plt.ylim(yy.min(), yy.max())\n",
    "\n",
    "plt.show()"
   ]
  },
  {
   "cell_type": "markdown",
   "metadata": {},
   "source": [
    "#### With k = 6"
   ]
  },
  {
   "cell_type": "code",
   "execution_count": 19,
   "metadata": {},
   "outputs": [
    {
     "name": "stdout",
     "output_type": "stream",
     "text": [
      "[1, 1, 0, 0, 0, 2, 2, 0, 0, 2, 2, 1, 1, 2, 0, 0, 1, 2, 2, 0, 0, 0, 2, 2, 2, 1, 2, 1, 2, 1]\n",
      "              precision    recall  f1-score   support\n",
      "\n",
      "           0       1.00      1.00      1.00        10\n",
      "           1       0.70      0.88      0.78         8\n",
      "           2       0.90      0.75      0.82        12\n",
      "\n",
      "    accuracy                           0.87        30\n",
      "   macro avg       0.87      0.88      0.87        30\n",
      "weighted avg       0.88      0.87      0.87        30\n",
      "\n",
      "[[10  0  0]\n",
      " [ 0  7  3]\n",
      " [ 0  1  9]]\n"
     ]
    }
   ],
   "source": [
    "y_predict_6 = KNN_Pred(X_train,y_train,X_test,6)\n",
    "print(y_predict_6)\n",
    "print(metrics.classification_report(y_predict_6, y_test))\n",
    "print(metrics.confusion_matrix(y_test, y_predict_6))"
   ]
  },
  {
   "cell_type": "code",
   "execution_count": 20,
   "metadata": {},
   "outputs": [
    {
     "data": {
      "image/png": "[encoded data removed]",
      "text/plain": [
       "<Figure size 432x288 with 1 Axes>"
      ]
     },
     "metadata": {
      "needs_background": "light"
     },
     "output_type": "display_data"
    }
   ],
   "source": [
    "Z6=KNN_Pred(X_train,y_train,X_t,6)\n",
    "Z6=np.array(Z6)\n",
    "Z6 = Z6.reshape(xx.shape)\n",
    "plt.figure()\n",
    "plt.contourf(xx, yy, Z6, cmap=cmap_light ,levels=[-1, 0, 1,2] ,alpha = 0.5)\n",
    "\n",
    "# For plotting train and test and prediction separatley \n",
    "plt.scatter(X_train[:, 0], X_train[:, 1], c=y_train, cmap=cmap_bold,edgecolor='k', s=40)\n",
    "plt.scatter(X_test[:, 0], X_test[:, 1], alpha=1.0,c = y_test, cmap=cmap_test,linewidth=1, marker='o', s=90)\n",
    "plt.scatter(X_test[:, 0], X_test[:, 1], alpha=1.0,c = ys_predict, cmap=cmap_predict ,linewidth=1, marker='X', s=40)\n",
    "plt.xlim(xx.min(), xx.max())\n",
    "plt.ylim(yy.min(), yy.max())\n",
    "\n",
    "plt.show()"
   ]
  },
  {
   "cell_type": "markdown",
   "metadata": {},
   "source": [
    "#### With k=10"
   ]
  },
  {
   "cell_type": "code",
   "execution_count": 21,
   "metadata": {},
   "outputs": [
    {
     "name": "stdout",
     "output_type": "stream",
     "text": [
      "[2, 2, 0, 0, 0, 2, 2, 0, 0, 2, 2, 1, 1, 2, 0, 0, 1, 2, 2, 0, 0, 0, 2, 2, 2, 1, 1, 2, 2, 1]\n",
      "              precision    recall  f1-score   support\n",
      "\n",
      "           0       1.00      1.00      1.00        10\n",
      "           1       0.60      1.00      0.75         6\n",
      "           2       1.00      0.71      0.83        14\n",
      "\n",
      "    accuracy                           0.87        30\n",
      "   macro avg       0.87      0.90      0.86        30\n",
      "weighted avg       0.92      0.87      0.87        30\n",
      "\n",
      "[[10  0  0]\n",
      " [ 0  6  4]\n",
      " [ 0  0 10]]\n"
     ]
    }
   ],
   "source": [
    "y_predict_10 = KNN_Pred(X_train,y_train,X_test,10)\n",
    "print(y_predict_10)\n",
    "print(metrics.classification_report(y_predict_10, y_test))\n",
    "print(metrics.confusion_matrix(y_test, y_predict_10))"
   ]
  },
  {
   "cell_type": "code",
   "execution_count": 22,
   "metadata": {},
   "outputs": [
    {
     "data": {
      "image/png": "[encoded data removed]",
      "text/plain": [
       "<Figure size 432x288 with 1 Axes>"
      ]
     },
     "metadata": {
      "needs_background": "light"
     },
     "output_type": "display_data"
    }
   ],
   "source": [
    "Z10=KNN_Pred(X_train,y_train,X_t,10)\n",
    "Z10=np.array(Z10)\n",
    "Z10 = Z10.reshape(xx.shape)\n",
    "plt.figure()\n",
    "plt.contourf(xx, yy, Z10, cmap=cmap_light ,levels=[-1, 0, 1,2] ,alpha = 0.5)\n",
    "\n",
    "# For plotting train and test and prediction separatley \n",
    "plt.scatter(X_train[:, 0], X_train[:, 1], c=y_train, cmap=cmap_bold,edgecolor='k', s=40)\n",
    "plt.scatter(X_test[:, 0], X_test[:, 1], alpha=1.0,c = y_test, cmap=cmap_test,linewidth=1, marker='o', s=90)\n",
    "plt.scatter(X_test[:, 0], X_test[:, 1], alpha=1.0,c = ys_predict, cmap=cmap_predict ,linewidth=1, marker='X', s=40)\n",
    "plt.xlim(xx.min(), xx.max())\n",
    "plt.ylim(yy.min(), yy.max())\n",
    "\n",
    "plt.show()"
   ]
  },
  {
   "cell_type": "markdown",
   "metadata": {},
   "source": [
    "#### How does the decision boundary change by increasing the number of neighbors?\n",
    "By increasing the number of neighbors, the decision boundaries become much more smoother"
   ]
  },
  {
   "cell_type": "markdown",
   "metadata": {},
   "source": [
    "## Bank Notes Dataset"
   ]
  },
  {
   "cell_type": "code",
   "execution_count": 23,
   "metadata": {},
   "outputs": [
    {
     "data": {
      "text/html": [
       "<div>\n",
       "<style scoped>\n",
       "    .dataframe tbody tr th:only-of-type {\n",
       "        vertical-align: middle;\n",
       "    }\n",
       "\n",
       "    .dataframe tbody tr th {\n",
       "        vertical-align: top;\n",
       "    }\n",
       "\n",
       "    .dataframe thead th {\n",
       "        text-align: right;\n",
       "    }\n",
       "</style>\n",
       "<table border=\"1\" class=\"dataframe\">\n",
       "  <thead>\n",
       "    <tr style=\"text-align: right;\">\n",
       "      <th></th>\n",
       "      <th>Variance</th>\n",
       "      <th>Skewness</th>\n",
       "      <th>Kurtosis</th>\n",
       "      <th>Entropy</th>\n",
       "      <th>Class</th>\n",
       "    </tr>\n",
       "  </thead>\n",
       "  <tbody>\n",
       "    <tr>\n",
       "      <th>0</th>\n",
       "      <td>3.62160</td>\n",
       "      <td>8.66610</td>\n",
       "      <td>-2.8073</td>\n",
       "      <td>-0.44699</td>\n",
       "      <td>0</td>\n",
       "    </tr>\n",
       "    <tr>\n",
       "      <th>1</th>\n",
       "      <td>4.54590</td>\n",
       "      <td>8.16740</td>\n",
       "      <td>-2.4586</td>\n",
       "      <td>-1.46210</td>\n",
       "      <td>0</td>\n",
       "    </tr>\n",
       "    <tr>\n",
       "      <th>2</th>\n",
       "      <td>3.86600</td>\n",
       "      <td>-2.63830</td>\n",
       "      <td>1.9242</td>\n",
       "      <td>0.10645</td>\n",
       "      <td>0</td>\n",
       "    </tr>\n",
       "    <tr>\n",
       "      <th>3</th>\n",
       "      <td>3.45660</td>\n",
       "      <td>9.52280</td>\n",
       "      <td>-4.0112</td>\n",
       "      <td>-3.59440</td>\n",
       "      <td>0</td>\n",
       "    </tr>\n",
       "    <tr>\n",
       "      <th>4</th>\n",
       "      <td>0.32924</td>\n",
       "      <td>-4.45520</td>\n",
       "      <td>4.5718</td>\n",
       "      <td>-0.98880</td>\n",
       "      <td>0</td>\n",
       "    </tr>\n",
       "    <tr>\n",
       "      <th>...</th>\n",
       "      <td>...</td>\n",
       "      <td>...</td>\n",
       "      <td>...</td>\n",
       "      <td>...</td>\n",
       "      <td>...</td>\n",
       "    </tr>\n",
       "    <tr>\n",
       "      <th>1367</th>\n",
       "      <td>0.40614</td>\n",
       "      <td>1.34920</td>\n",
       "      <td>-1.4501</td>\n",
       "      <td>-0.55949</td>\n",
       "      <td>1</td>\n",
       "    </tr>\n",
       "    <tr>\n",
       "      <th>1368</th>\n",
       "      <td>-1.38870</td>\n",
       "      <td>-4.87730</td>\n",
       "      <td>6.4774</td>\n",
       "      <td>0.34179</td>\n",
       "      <td>1</td>\n",
       "    </tr>\n",
       "    <tr>\n",
       "      <th>1369</th>\n",
       "      <td>-3.75030</td>\n",
       "      <td>-13.45860</td>\n",
       "      <td>17.5932</td>\n",
       "      <td>-2.77710</td>\n",
       "      <td>1</td>\n",
       "    </tr>\n",
       "    <tr>\n",
       "      <th>1370</th>\n",
       "      <td>-3.56370</td>\n",
       "      <td>-8.38270</td>\n",
       "      <td>12.3930</td>\n",
       "      <td>-1.28230</td>\n",
       "      <td>1</td>\n",
       "    </tr>\n",
       "    <tr>\n",
       "      <th>1371</th>\n",
       "      <td>-2.54190</td>\n",
       "      <td>-0.65804</td>\n",
       "      <td>2.6842</td>\n",
       "      <td>1.19520</td>\n",
       "      <td>1</td>\n",
       "    </tr>\n",
       "  </tbody>\n",
       "</table>\n",
       "<p>1372 rows × 5 columns</p>\n",
       "</div>"
      ],
      "text/plain": [
       "      Variance  Skewness  Kurtosis  Entropy  Class\n",
       "0      3.62160   8.66610   -2.8073 -0.44699      0\n",
       "1      4.54590   8.16740   -2.4586 -1.46210      0\n",
       "2      3.86600  -2.63830    1.9242  0.10645      0\n",
       "3      3.45660   9.52280   -4.0112 -3.59440      0\n",
       "4      0.32924  -4.45520    4.5718 -0.98880      0\n",
       "...        ...       ...       ...      ...    ...\n",
       "1367   0.40614   1.34920   -1.4501 -0.55949      1\n",
       "1368  -1.38870  -4.87730    6.4774  0.34179      1\n",
       "1369  -3.75030 -13.45860   17.5932 -2.77710      1\n",
       "1370  -3.56370  -8.38270   12.3930 -1.28230      1\n",
       "1371  -2.54190  -0.65804    2.6842  1.19520      1\n",
       "\n",
       "[1372 rows x 5 columns]"
      ]
     },
     "execution_count": 23,
     "metadata": {},
     "output_type": "execute_result"
    }
   ],
   "source": [
    "col_names = ['Variance','Skewness','Kurtosis','Entropy','Class']\n",
    "df2=pd.read_csv(\"data_banknote_authentication.csv\",names = col_names) \n",
    "df2"
   ]
  },
  {
   "cell_type": "code",
   "execution_count": 24,
   "metadata": {},
   "outputs": [],
   "source": [
    "Xbank = df2.values[:,:-1]\n",
    "Ybank = df2.values[:,-1]"
   ]
  },
  {
   "cell_type": "code",
   "execution_count": 25,
   "metadata": {},
   "outputs": [],
   "source": [
    "X_trainbank, X_testbank, y_trainbank, y_testbank = train_test_split(Xbank, Ybank,stratify=Ybank, test_size = 0.2, random_state = 40)"
   ]
  },
  {
   "cell_type": "markdown",
   "metadata": {},
   "source": [
    "### Performing a 2-nearest neighbor on bank note dataset using 80% of the data as"
   ]
  },
  {
   "cell_type": "code",
   "execution_count": 26,
   "metadata": {},
   "outputs": [
    {
     "name": "stdout",
     "output_type": "stream",
     "text": [
      "[1.0, 1.0, 0.0, 1.0, 1.0, 0.0, 1.0, 0.0, 0.0, 1.0, 1.0, 0.0, 1.0, 1.0, 1.0, 0.0, 0.0, 1.0, 1.0, 1.0, 1.0, 0.0, 0.0, 0.0, 0.0, 1.0, 0.0, 0.0, 0.0, 1.0, 0.0, 1.0, 0.0, 1.0, 1.0, 1.0, 1.0, 0.0, 1.0, 0.0, 0.0, 1.0, 0.0, 0.0, 1.0, 0.0, 0.0, 0.0, 1.0, 0.0, 1.0, 1.0, 0.0, 1.0, 0.0, 1.0, 1.0, 1.0, 0.0, 0.0, 1.0, 1.0, 1.0, 0.0, 0.0, 1.0, 1.0, 0.0, 0.0, 1.0, 0.0, 0.0, 0.0, 1.0, 0.0, 0.0, 0.0, 1.0, 0.0, 1.0, 1.0, 0.0, 1.0, 1.0, 0.0, 0.0, 1.0, 1.0, 0.0, 0.0, 0.0, 0.0, 0.0, 0.0, 0.0, 0.0, 1.0, 1.0, 0.0, 0.0, 0.0, 1.0, 1.0, 1.0, 1.0, 0.0, 1.0, 1.0, 1.0, 0.0, 0.0, 1.0, 0.0, 0.0, 0.0, 1.0, 1.0, 0.0, 1.0, 0.0, 1.0, 0.0, 0.0, 1.0, 0.0, 1.0, 1.0, 1.0, 0.0, 1.0, 0.0, 0.0, 1.0, 0.0, 0.0, 0.0, 0.0, 1.0, 1.0, 1.0, 1.0, 0.0, 0.0, 0.0, 0.0, 0.0, 0.0, 0.0, 0.0, 0.0, 0.0, 0.0, 1.0, 1.0, 0.0, 0.0, 1.0, 0.0, 1.0, 0.0, 0.0, 1.0, 0.0, 1.0, 1.0, 0.0, 0.0, 0.0, 0.0, 0.0, 1.0, 0.0, 1.0, 0.0, 1.0, 0.0, 0.0, 0.0, 0.0, 0.0, 1.0, 1.0, 0.0, 0.0, 0.0, 1.0, 0.0, 0.0, 0.0, 0.0, 1.0, 1.0, 0.0, 1.0, 0.0, 0.0, 1.0, 0.0, 1.0, 0.0, 1.0, 1.0, 0.0, 0.0, 1.0, 0.0, 0.0, 1.0, 1.0, 1.0, 0.0, 0.0, 0.0, 0.0, 0.0, 0.0, 0.0, 0.0, 0.0, 0.0, 1.0, 1.0, 0.0, 1.0, 0.0, 0.0, 0.0, 1.0, 1.0, 1.0, 1.0, 1.0, 1.0, 0.0, 1.0, 1.0, 0.0, 1.0, 1.0, 1.0, 0.0, 1.0, 0.0, 0.0, 1.0, 0.0, 0.0, 0.0, 1.0, 1.0, 1.0, 0.0, 0.0, 0.0, 1.0, 1.0, 0.0, 0.0, 0.0, 0.0, 0.0, 1.0, 1.0, 0.0, 1.0, 1.0, 0.0, 1.0, 0.0, 1.0, 0.0, 0.0, 1.0, 1.0, 0.0]\n",
      "              precision    recall  f1-score   support\n",
      "\n",
      "         0.0       1.00      1.00      1.00       153\n",
      "         1.0       1.00      1.00      1.00       122\n",
      "\n",
      "    accuracy                           1.00       275\n",
      "   macro avg       1.00      1.00      1.00       275\n",
      "weighted avg       1.00      1.00      1.00       275\n",
      "\n",
      "[[153   0]\n",
      " [  0 122]]\n"
     ]
    }
   ],
   "source": [
    "ys_predictbank2=KNN_Pred(X_trainbank,y_trainbank,X_testbank,2)\n",
    "print(ys_predictbank2)\n",
    "print(metrics.classification_report(ys_predictbank2, y_testbank))\n",
    "print(metrics.confusion_matrix(y_testbank, ys_predictbank2))"
   ]
  },
  {
   "cell_type": "markdown",
   "metadata": {},
   "source": [
    "### Using Manhattan Distance"
   ]
  },
  {
   "cell_type": "code",
   "execution_count": 27,
   "metadata": {},
   "outputs": [],
   "source": [
    "def manhatten(p1, p2):\n",
    "    dist = np.sum(np.abs(p1-p2))\n",
    "    return dist"
   ]
  },
  {
   "cell_type": "code",
   "execution_count": 28,
   "metadata": {},
   "outputs": [],
   "source": [
    "def KNN_Pred_Man(x_train, y, x_input, k):\n",
    "    op = []\n",
    "    for item in x_input:\n",
    "        point_dist = []\n",
    "        for j in range(len(x_train)):\n",
    "            c=np.array(x_train[j])\n",
    "            distances = manhatten(c, item)\n",
    "            point_dist.append(distances)\n",
    "        point_dist = np.array(point_dist)\n",
    "        dist = np.argsort(point_dist)[:k]\n",
    "        labels = y[dist]\n",
    "        lab = mode(labels)\n",
    "        lab = lab.mode[0]\n",
    "        op.append(lab)\n",
    "    return op"
   ]
  },
  {
   "cell_type": "code",
   "execution_count": 29,
   "metadata": {},
   "outputs": [
    {
     "name": "stdout",
     "output_type": "stream",
     "text": [
      "[1.0, 1.0, 0.0, 1.0, 1.0, 0.0, 1.0, 0.0, 0.0, 1.0, 1.0, 0.0, 1.0, 1.0, 1.0, 0.0, 0.0, 1.0, 1.0, 1.0, 1.0, 0.0, 0.0, 0.0, 0.0, 1.0, 0.0, 0.0, 0.0, 1.0, 0.0, 1.0, 0.0, 1.0, 1.0, 1.0, 1.0, 0.0, 1.0, 0.0, 0.0, 1.0, 0.0, 0.0, 1.0, 0.0, 0.0, 0.0, 1.0, 0.0, 1.0, 1.0, 0.0, 1.0, 0.0, 1.0, 1.0, 1.0, 0.0, 0.0, 1.0, 1.0, 1.0, 0.0, 0.0, 1.0, 1.0, 0.0, 0.0, 1.0, 0.0, 0.0, 0.0, 1.0, 0.0, 0.0, 0.0, 1.0, 0.0, 1.0, 1.0, 0.0, 1.0, 1.0, 0.0, 0.0, 1.0, 1.0, 0.0, 0.0, 0.0, 0.0, 0.0, 0.0, 0.0, 0.0, 1.0, 1.0, 0.0, 0.0, 0.0, 1.0, 1.0, 1.0, 1.0, 0.0, 1.0, 1.0, 1.0, 0.0, 0.0, 1.0, 0.0, 0.0, 0.0, 1.0, 1.0, 0.0, 1.0, 0.0, 1.0, 0.0, 0.0, 1.0, 0.0, 1.0, 1.0, 1.0, 0.0, 1.0, 0.0, 0.0, 1.0, 0.0, 0.0, 0.0, 0.0, 1.0, 1.0, 1.0, 1.0, 0.0, 0.0, 0.0, 0.0, 0.0, 0.0, 0.0, 0.0, 0.0, 0.0, 0.0, 1.0, 1.0, 0.0, 0.0, 1.0, 0.0, 1.0, 0.0, 0.0, 1.0, 0.0, 1.0, 1.0, 0.0, 0.0, 0.0, 0.0, 0.0, 1.0, 0.0, 1.0, 0.0, 1.0, 0.0, 0.0, 0.0, 0.0, 0.0, 1.0, 1.0, 0.0, 0.0, 0.0, 1.0, 0.0, 0.0, 0.0, 0.0, 1.0, 1.0, 0.0, 1.0, 0.0, 0.0, 1.0, 0.0, 1.0, 0.0, 1.0, 1.0, 0.0, 0.0, 1.0, 0.0, 0.0, 1.0, 1.0, 1.0, 0.0, 0.0, 0.0, 0.0, 0.0, 0.0, 0.0, 0.0, 0.0, 0.0, 1.0, 1.0, 0.0, 1.0, 0.0, 0.0, 0.0, 1.0, 1.0, 1.0, 1.0, 1.0, 1.0, 0.0, 1.0, 1.0, 0.0, 1.0, 1.0, 1.0, 0.0, 1.0, 0.0, 0.0, 1.0, 0.0, 0.0, 0.0, 1.0, 1.0, 1.0, 0.0, 0.0, 0.0, 1.0, 1.0, 0.0, 0.0, 0.0, 0.0, 0.0, 1.0, 1.0, 0.0, 1.0, 1.0, 0.0, 1.0, 0.0, 1.0, 0.0, 0.0, 1.0, 1.0, 0.0]\n",
      "              precision    recall  f1-score   support\n",
      "\n",
      "         0.0       1.00      1.00      1.00       153\n",
      "         1.0       1.00      1.00      1.00       122\n",
      "\n",
      "    accuracy                           1.00       275\n",
      "   macro avg       1.00      1.00      1.00       275\n",
      "weighted avg       1.00      1.00      1.00       275\n",
      "\n",
      "[[153   0]\n",
      " [  0 122]]\n"
     ]
    }
   ],
   "source": [
    "y_predict_Man = KNN_Pred_Man(X_trainbank,y_trainbank,X_testbank,2)\n",
    "print(y_predict_Man)\n",
    "print(metrics.classification_report(y_predict_Man, y_testbank))\n",
    "print(metrics.confusion_matrix(y_testbank, y_predict_Man))"
   ]
  },
  {
   "cell_type": "markdown",
   "metadata": {},
   "source": [
    "### Using L3 (Minkowski formula for p = 3)"
   ]
  },
  {
   "cell_type": "code",
   "execution_count": 30,
   "metadata": {},
   "outputs": [],
   "source": [
    "from decimal import Decimal\n",
    "def p_root(value, root): \n",
    "    root_value = 1 / float(root) \n",
    "    return round (Decimal(value) **\n",
    "             Decimal(root_value), 3)\n",
    "def minkowski_distance(x, y, p): \n",
    "    return (p_root(sum(pow(abs(a-b), p) \n",
    "            for a, b in zip(x, y)), p))"
   ]
  },
  {
   "cell_type": "code",
   "execution_count": 31,
   "metadata": {},
   "outputs": [],
   "source": [
    "def KNN_Pred_Minkow(x_train, y, x_input, k):\n",
    "    op = []\n",
    "    for item in x_input:\n",
    "        point_dist = []\n",
    "        for j in range(len(x_train)):           \n",
    "            c=np.array(x_train[j])\n",
    "            distances = minkowski_distance(c, item,3)\n",
    "            point_dist.append(distances)\n",
    "        point_dist = np.array(point_dist)\n",
    "        dist = np.argsort(point_dist)[:k]\n",
    "        labels = y[dist]\n",
    "        lab = mode(labels)\n",
    "        lab = lab.mode[0]\n",
    "        op.append(lab)\n",
    "    return op"
   ]
  },
  {
   "cell_type": "code",
   "execution_count": 32,
   "metadata": {},
   "outputs": [
    {
     "name": "stdout",
     "output_type": "stream",
     "text": [
      "[1.0, 1.0, 0.0, 1.0, 1.0, 0.0, 1.0, 0.0, 0.0, 1.0, 1.0, 0.0, 1.0, 1.0, 1.0, 0.0, 0.0, 1.0, 1.0, 1.0, 1.0, 0.0, 0.0, 0.0, 0.0, 1.0, 0.0, 0.0, 0.0, 1.0, 0.0, 1.0, 0.0, 1.0, 1.0, 1.0, 1.0, 0.0, 1.0, 0.0, 0.0, 1.0, 0.0, 0.0, 1.0, 0.0, 0.0, 0.0, 1.0, 0.0, 1.0, 1.0, 0.0, 1.0, 0.0, 1.0, 1.0, 1.0, 0.0, 0.0, 1.0, 1.0, 1.0, 0.0, 0.0, 1.0, 1.0, 0.0, 0.0, 1.0, 0.0, 0.0, 0.0, 1.0, 0.0, 0.0, 0.0, 1.0, 0.0, 1.0, 1.0, 0.0, 1.0, 1.0, 0.0, 0.0, 1.0, 1.0, 0.0, 0.0, 0.0, 0.0, 0.0, 0.0, 0.0, 0.0, 1.0, 1.0, 0.0, 0.0, 0.0, 1.0, 1.0, 1.0, 1.0, 0.0, 1.0, 1.0, 1.0, 0.0, 0.0, 1.0, 0.0, 0.0, 0.0, 1.0, 1.0, 0.0, 1.0, 0.0, 1.0, 0.0, 0.0, 1.0, 0.0, 1.0, 1.0, 1.0, 0.0, 1.0, 0.0, 0.0, 1.0, 0.0, 0.0, 0.0, 0.0, 1.0, 1.0, 1.0, 1.0, 0.0, 0.0, 0.0, 0.0, 0.0, 0.0, 0.0, 0.0, 0.0, 0.0, 0.0, 1.0, 1.0, 0.0, 0.0, 1.0, 0.0, 1.0, 0.0, 0.0, 1.0, 0.0, 1.0, 1.0, 0.0, 0.0, 0.0, 0.0, 0.0, 1.0, 0.0, 1.0, 0.0, 1.0, 0.0, 0.0, 0.0, 0.0, 0.0, 1.0, 1.0, 0.0, 0.0, 0.0, 1.0, 0.0, 0.0, 0.0, 0.0, 1.0, 1.0, 0.0, 1.0, 0.0, 0.0, 1.0, 0.0, 1.0, 0.0, 1.0, 1.0, 0.0, 0.0, 1.0, 0.0, 0.0, 1.0, 1.0, 1.0, 0.0, 0.0, 0.0, 0.0, 0.0, 0.0, 0.0, 0.0, 0.0, 0.0, 1.0, 1.0, 0.0, 1.0, 0.0, 0.0, 0.0, 1.0, 1.0, 1.0, 1.0, 1.0, 1.0, 0.0, 1.0, 1.0, 0.0, 1.0, 1.0, 1.0, 0.0, 1.0, 0.0, 0.0, 1.0, 0.0, 0.0, 0.0, 1.0, 1.0, 1.0, 0.0, 0.0, 0.0, 1.0, 1.0, 0.0, 0.0, 0.0, 0.0, 0.0, 1.0, 1.0, 0.0, 1.0, 1.0, 0.0, 1.0, 0.0, 1.0, 0.0, 0.0, 1.0, 1.0, 0.0]\n",
      "              precision    recall  f1-score   support\n",
      "\n",
      "         0.0       1.00      1.00      1.00       153\n",
      "         1.0       1.00      1.00      1.00       122\n",
      "\n",
      "    accuracy                           1.00       275\n",
      "   macro avg       1.00      1.00      1.00       275\n",
      "weighted avg       1.00      1.00      1.00       275\n",
      "\n",
      "[[153   0]\n",
      " [  0 122]]\n"
     ]
    }
   ],
   "source": [
    "y_predict_Minkow = KNN_Pred_Minkow(X_trainbank,y_trainbank,X_testbank,2)\n",
    "print(y_predict_Minkow)\n",
    "print(metrics.classification_report(y_predict_Minkow, y_testbank))\n",
    "print(metrics.confusion_matrix(y_testbank, y_predict_Minkow))"
   ]
  },
  {
   "cell_type": "markdown",
   "metadata": {},
   "source": [
    "#### How does changing the distance function affect the classification?\n",
    "The accuracy in all the classification is 100 percent. Therefore changing the distance function does not affect the classification"
   ]
  },
  {
   "cell_type": "markdown",
   "metadata": {},
   "source": [
    "## 3. MNIST Dataset"
   ]
  },
  {
   "cell_type": "code",
   "execution_count": 51,
   "metadata": {},
   "outputs": [],
   "source": [
    "df3_train = pd.read_csv(\"mnist_train.csv\")\n",
    "df3_test = pd.read_csv(\"mnist_test.csv\")"
   ]
  },
  {
   "cell_type": "markdown",
   "metadata": {},
   "source": [
    "### 1st the class label"
   ]
  },
  {
   "cell_type": "markdown",
   "metadata": {},
   "source": [
    "### With 500 values"
   ]
  },
  {
   "cell_type": "code",
   "execution_count": 72,
   "metadata": {},
   "outputs": [
    {
     "name": "stdout",
     "output_type": "stream",
     "text": [
      "(500,) (500, 784)\n",
      "(500, 784) (500, 784)\n"
     ]
    }
   ],
   "source": [
    "data = df3_train.values[:500]\n",
    "data_test = df3_test.values[:500]\n",
    "y_trainMnist500 = data[:, 0]\n",
    "X_trainMnist500 = data[:,1:]\n",
    "\n",
    "y_testMnist500 =  data_test[:,0]\n",
    "X_testMnist500 = data_test[:,1:]\n",
    "\n",
    "print(y_trainMnist500.shape, X_trainMnist500.shape)\n",
    "print(X_testMnist500.shape, X_trainMnist500.shape)"
   ]
  },
  {
   "cell_type": "code",
   "execution_count": 80,
   "metadata": {},
   "outputs": [
    {
     "name": "stdout",
     "output_type": "stream",
     "text": [
      "              precision    recall  f1-score   support\n",
      "\n",
      "           0       0.98      0.85      0.91        48\n",
      "           1       1.00      0.81      0.89        83\n",
      "           2       0.65      0.92      0.77        39\n",
      "           3       0.83      0.78      0.80        49\n",
      "           4       0.76      0.84      0.80        50\n",
      "           5       0.62      0.79      0.70        39\n",
      "           6       0.86      0.93      0.89        40\n",
      "           7       0.75      0.78      0.77        46\n",
      "           8       0.55      0.71      0.62        31\n",
      "           9       0.87      0.63      0.73        75\n",
      "\n",
      "    accuracy                           0.79       500\n",
      "   macro avg       0.79      0.80      0.79       500\n",
      "weighted avg       0.82      0.79      0.80       500\n",
      "\n",
      "Accuracy =  0.794\n",
      "Error =  0.20599999999999996\n"
     ]
    }
   ],
   "source": [
    "ys_predict_MNIST500=KNN_Pred(X_trainMnist500,y_trainMnist500,X_testMnist500,1)\n",
    "print(metrics.classification_report(ys_predict_MNIST500, y_testMnist500))\n",
    "accuracy_500 = metrics.accuracy_score(ys_predict_MNIST500, y_testMnist500)\n",
    "error_500 = 1- accuracy_500\n",
    "print(\"Accuracy = \",accuracy_500)\n",
    "print(\"Error = \",error_500)\n"
   ]
  },
  {
   "cell_type": "markdown",
   "metadata": {},
   "source": [
    "### With 1000 values"
   ]
  },
  {
   "cell_type": "code",
   "execution_count": 81,
   "metadata": {},
   "outputs": [
    {
     "name": "stdout",
     "output_type": "stream",
     "text": [
      "(1000,) (1000, 784)\n",
      "(1000, 784) (1000, 784)\n"
     ]
    }
   ],
   "source": [
    "data = df3_train.values[:1000]\n",
    "data_test = df3_test.values[:1000]\n",
    "y_trainMnist1000 = data[:, 0]\n",
    "X_trainMnist1000 = data[:,1:]\n",
    "\n",
    "y_testMnist1000 =  data_test[:,0]\n",
    "X_testMnist1000 = data_test[:,1:]\n",
    "\n",
    "print(y_trainMnist1000.shape, X_trainMnist1000.shape)\n",
    "print(X_testMnist1000.shape, X_trainMnist1000.shape)"
   ]
  },
  {
   "cell_type": "code",
   "execution_count": 82,
   "metadata": {},
   "outputs": [
    {
     "name": "stdout",
     "output_type": "stream",
     "text": [
      "              precision    recall  f1-score   support\n",
      "\n",
      "           0       0.94      0.88      0.91        91\n",
      "           1       1.00      0.88      0.93       144\n",
      "           2       0.79      0.92      0.85       100\n",
      "           3       0.71      0.85      0.78        89\n",
      "           4       0.72      0.87      0.79        91\n",
      "           5       0.72      0.72      0.72        87\n",
      "           6       0.93      0.84      0.89        96\n",
      "           7       0.90      0.80      0.85       110\n",
      "           8       0.65      0.88      0.75        66\n",
      "           9       0.89      0.67      0.77       126\n",
      "\n",
      "    accuracy                           0.83      1000\n",
      "   macro avg       0.83      0.83      0.82      1000\n",
      "weighted avg       0.84      0.83      0.83      1000\n",
      "\n",
      "Accuracy =  0.828\n",
      "Error =  0.17200000000000004\n"
     ]
    }
   ],
   "source": [
    "ys_predict_MNIST1000=KNN_Pred(X_trainMnist1000,y_trainMnist1000,X_testMnist1000,1)\n",
    "print(metrics.classification_report(ys_predict_MNIST1000, y_testMnist1000))\n",
    "accuracy_1000 = metrics.accuracy_score(ys_predict_MNIST1000, y_testMnist1000)\n",
    "error_1000 = 1- accuracy_1000\n",
    "print(\"Accuracy = \",accuracy_1000)\n",
    "print(\"Error = \",error_1000)\n"
   ]
  },
  {
   "cell_type": "markdown",
   "metadata": {},
   "source": [
    "### With 2500 values"
   ]
  },
  {
   "cell_type": "code",
   "execution_count": 83,
   "metadata": {},
   "outputs": [
    {
     "name": "stdout",
     "output_type": "stream",
     "text": [
      "(2500,) (2500, 784)\n",
      "(2500, 784) (2500, 784)\n"
     ]
    }
   ],
   "source": [
    "data = df3_train.values[:2500]\n",
    "data_test = df3_test.values[:2500]\n",
    "y_trainMnist2500 = data[:, 0]\n",
    "X_trainMnist2500 = data[:,1:]\n",
    "\n",
    "y_testMnist2500 =  data_test[:,0]\n",
    "X_testMnist2500 = data_test[:,1:]\n",
    "\n",
    "print(y_trainMnist2500.shape, X_trainMnist2500.shape)\n",
    "print(X_testMnist2500.shape, X_trainMnist2500.shape)"
   ]
  },
  {
   "cell_type": "code",
   "execution_count": 84,
   "metadata": {},
   "outputs": [
    {
     "name": "stdout",
     "output_type": "stream",
     "text": [
      "              precision    recall  f1-score   support\n",
      "\n",
      "           0       0.97      0.92      0.94       232\n",
      "           1       0.99      0.87      0.93       327\n",
      "           2       0.83      0.95      0.89       242\n",
      "           3       0.83      0.88      0.86       239\n",
      "           4       0.87      0.89      0.88       269\n",
      "           5       0.85      0.82      0.84       228\n",
      "           6       0.95      0.88      0.91       241\n",
      "           7       0.88      0.87      0.87       258\n",
      "           8       0.75      0.90      0.82       203\n",
      "           9       0.83      0.78      0.80       261\n",
      "\n",
      "    accuracy                           0.88      2500\n",
      "   macro avg       0.88      0.88      0.87      2500\n",
      "weighted avg       0.88      0.88      0.88      2500\n",
      "\n",
      "Accuracy =  0.876\n",
      "Error =  0.124\n"
     ]
    }
   ],
   "source": [
    "ys_predict_MNIST2500=KNN_Pred(X_trainMnist2500,y_trainMnist2500,X_testMnist2500,1)\n",
    "print(metrics.classification_report(ys_predict_MNIST2500, y_testMnist2500))\n",
    "accuracy_2500 = metrics.accuracy_score(ys_predict_MNIST2500, y_testMnist2500)\n",
    "error_2500 = 1- accuracy_2500\n",
    "print(\"Accuracy = \",accuracy_2500)\n",
    "print(\"Error = \",error_2500)\n"
   ]
  },
  {
   "cell_type": "markdown",
   "metadata": {},
   "source": [
    "### With 5000 values"
   ]
  },
  {
   "cell_type": "code",
   "execution_count": 85,
   "metadata": {},
   "outputs": [
    {
     "name": "stdout",
     "output_type": "stream",
     "text": [
      "(5000,) (5000, 784)\n",
      "(5000, 784) (5000, 784)\n"
     ]
    }
   ],
   "source": [
    "data = df3_train.values[:5000]\n",
    "data_test = df3_test.values[:5000]\n",
    "y_trainMnist5000 = data[:, 0]\n",
    "X_trainMnist5000 = data[:,1:]\n",
    "\n",
    "y_testMnist5000 =  data_test[:,0]\n",
    "X_testMnist5000 = data_test[:,1:]\n",
    "\n",
    "print(y_trainMnist5000.shape, X_trainMnist5000.shape)\n",
    "print(X_testMnist5000.shape, X_trainMnist5000.shape)"
   ]
  },
  {
   "cell_type": "code",
   "execution_count": 86,
   "metadata": {},
   "outputs": [
    {
     "name": "stdout",
     "output_type": "stream",
     "text": [
      "              precision    recall  f1-score   support\n",
      "\n",
      "           0       0.98      0.92      0.95       492\n",
      "           1       0.99      0.90      0.94       630\n",
      "           2       0.89      0.97      0.93       487\n",
      "           3       0.89      0.89      0.89       502\n",
      "           4       0.91      0.92      0.91       499\n",
      "           5       0.87      0.91      0.89       437\n",
      "           6       0.96      0.92      0.94       481\n",
      "           7       0.90      0.89      0.90       514\n",
      "           8       0.83      0.94      0.88       429\n",
      "           9       0.88      0.86      0.87       529\n",
      "\n",
      "    accuracy                           0.91      5000\n",
      "   macro avg       0.91      0.91      0.91      5000\n",
      "weighted avg       0.91      0.91      0.91      5000\n",
      "\n",
      "Accuracy =  0.9108\n",
      "Error =  0.08919999999999995\n"
     ]
    }
   ],
   "source": [
    "ys_predict_MNIST5000=KNN_Pred(X_trainMnist5000,y_trainMnist5000,X_testMnist5000,1)\n",
    "print(metrics.classification_report(ys_predict_MNIST5000, y_testMnist5000))\n",
    "accuracy_5000 = metrics.accuracy_score(ys_predict_MNIST5000, y_testMnist5000)\n",
    "error_5000 = 1- accuracy_5000\n",
    "print(\"Accuracy = \",accuracy_5000)\n",
    "print(\"Error = \",error_5000)\n"
   ]
  },
  {
   "cell_type": "markdown",
   "metadata": {},
   "source": [
    "### With 10000 values"
   ]
  },
  {
   "cell_type": "code",
   "execution_count": 87,
   "metadata": {},
   "outputs": [
    {
     "name": "stdout",
     "output_type": "stream",
     "text": [
      "(10000,) (10000, 784)\n",
      "(9999, 784) (10000, 784)\n"
     ]
    }
   ],
   "source": [
    "data = df3_train.values[:10000]\n",
    "data_test = df3_test.values[:10000]\n",
    "y_trainMnist10000 = data[:, 0]\n",
    "X_trainMnist10000 = data[:,1:]\n",
    "\n",
    "y_testMnist10000 =  data_test[:,0]\n",
    "X_testMnist10000 = data_test[:,1:]\n",
    "\n",
    "print(y_trainMnist10000.shape, X_trainMnist10000.shape)\n",
    "print(X_testMnist10000.shape, X_trainMnist10000.shape)"
   ]
  },
  {
   "cell_type": "code",
   "execution_count": 88,
   "metadata": {},
   "outputs": [
    {
     "name": "stdout",
     "output_type": "stream",
     "text": [
      "              precision    recall  f1-score   support\n",
      "\n",
      "           0       0.99      0.95      0.97      1019\n",
      "           1       1.00      0.94      0.97      1201\n",
      "           2       0.93      0.98      0.95       983\n",
      "           3       0.94      0.92      0.93      1024\n",
      "           4       0.93      0.96      0.95       951\n",
      "           5       0.93      0.94      0.93       883\n",
      "           6       0.98      0.96      0.97       977\n",
      "           7       0.95      0.93      0.94      1040\n",
      "           8       0.89      0.97      0.93       888\n",
      "           9       0.93      0.91      0.92      1033\n",
      "\n",
      "    accuracy                           0.95      9999\n",
      "   macro avg       0.95      0.95      0.95      9999\n",
      "weighted avg       0.95      0.95      0.95      9999\n",
      "\n",
      "Accuracy =  0.9462946294629463\n",
      "Error =  0.05370537053705371\n"
     ]
    }
   ],
   "source": [
    "ys_predict_MNIST10000=KNN_Pred(X_trainMnist10000,y_trainMnist10000,X_testMnist10000,1)\n",
    "print(metrics.classification_report(ys_predict_MNIST10000, y_testMnist10000))\n",
    "accuracy_10000 = metrics.accuracy_score(ys_predict_MNIST10000, y_testMnist10000)\n",
    "error_10000 = 1- accuracy_10000\n",
    "print(\"Accuracy = \",accuracy_10000)\n",
    "print(\"Error = \",error_10000)\n"
   ]
  },
  {
   "cell_type": "markdown",
   "metadata": {},
   "source": [
    "### Plotting the Error"
   ]
  },
  {
   "cell_type": "code",
   "execution_count": 89,
   "metadata": {},
   "outputs": [
    {
     "data": {
      "image/png": "[encoded data removed]",
      "text/plain": [
       "<Figure size 432x288 with 1 Axes>"
      ]
     },
     "metadata": {
      "needs_background": "light"
     },
     "output_type": "display_data"
    }
   ],
   "source": [
    "xs=[500,1000,2500,5000,10000]\n",
    "y = [error_500,error_1000,error_2500,error_5000,error_10000]\n",
    "plt.scatter(xs,y)\n",
    "plt.plot(xs,y)\n",
    "plt.ylabel('Error')\n",
    "plt.xlabel('Training Values')\n",
    "plt.xticks(rotation=60)\n",
    "plt.show()"
   ]
  },
  {
   "cell_type": "markdown",
   "metadata": {},
   "source": [
    "#### How does the classification error change with number of training example?\n",
    "The classification error decreases with the increase in the number of training example."
   ]
  },
  {
   "cell_type": "markdown",
   "metadata": {},
   "source": [
    "### Classification report of 10000 value"
   ]
  },
  {
   "cell_type": "code",
   "execution_count": 90,
   "metadata": {},
   "outputs": [
    {
     "name": "stdout",
     "output_type": "stream",
     "text": [
      "[[ 971    1    1    0    0    1    4    1    1    0]\n",
      " [   0 1130    1    2    0    0    2    0    0    0]\n",
      " [  15   14  960    9    1    1    4   23    5    0]\n",
      " [   1    1    4  945    1   23    3   12    9   11]\n",
      " [   0   11    0    0  915    0    8    6    2   40]\n",
      " [   8    4    0   28    3  828   10    2    2    7]\n",
      " [   9    3    0    0    3    4  938    0    1    0]\n",
      " [   0   26    8    1    4    1    0  971    1   15]\n",
      " [   9    5    6   32    4   21    7    8  863   19]\n",
      " [   6    6    3    7   20    4    1   17    4  941]]\n"
     ]
    }
   ],
   "source": [
    "print(metrics.confusion_matrix(y_testMnist10000, ys_predict_MNIST10000))"
   ]
  }
 ],
 "metadata": {
  "kernelspec": {
   "display_name": "Python 3",
   "language": "python",
   "name": "python3"
  },
  "language_info": {
   "codemirror_mode": {
    "name": "ipython",
    "version": 3
   },
   "file_extension": ".py",
   "mimetype": "text/x-python",
   "name": "python",
   "nbconvert_exporter": "python",
   "pygments_lexer": "ipython3",
   "version": "3.8.8"
  }
 },
 "nbformat": 4,
 "nbformat_minor": 4
}
